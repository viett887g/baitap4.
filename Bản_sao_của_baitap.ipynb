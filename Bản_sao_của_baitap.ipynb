{
  "nbformat": 4,
  "nbformat_minor": 0,
  "metadata": {
    "colab": {
      "name": "Bản sao của baitap.ipynb",
      "provenance": [],
      "authorship_tag": "ABX9TyMc3shBs7IOUY9omAXmRS1W",
      "include_colab_link": true
    },
    "kernelspec": {
      "name": "python3",
      "display_name": "Python 3"
    },
    "language_info": {
      "name": "python"
    }
  },
  "cells": [
    {
      "cell_type": "markdown",
      "metadata": {
        "id": "view-in-github",
        "colab_type": "text"
      },
      "source": [
        "<a href=\"https://colab.research.google.com/github/viett887g/baitap4./blob/main/B%E1%BA%A3n_sao_c%E1%BB%A7a_baitap.ipynb\" target=\"_parent\"><img src=\"https://colab.research.google.com/assets/colab-badge.svg\" alt=\"Open In Colab\"/></a>"
      ]
    },
    {
      "cell_type": "code",
      "metadata": {
        "colab": {
          "base_uri": "https://localhost:8080/"
        },
        "id": "AlJC6ZNg1for",
        "outputId": "43b862dc-2bba-4581-8cde-68352c766536"
      },
      "source": [
        "A= int(input(\"give me ur loan amoun*t: \"))\n",
        "B= float(input(\"give ur loan monthly rate too: \" ))\n",
        "S= (A*B) / (1-(1/(1+B)**(365*12)))\n",
        "print(\"so its ur mouthlypayment\", S)"
      ],
      "execution_count": null,
      "outputs": [
        {
          "output_type": "stream",
          "name": "stdout",
          "text": [
            "give me ur loan amoun*t: 1700000\n",
            "give ur loan monthly rate too: 0.01\n",
            "so its ur mouthlypayment 17000.0\n"
          ]
        }
      ]
    },
    {
      "cell_type": "code",
      "metadata": {
        "colab": {
          "base_uri": "https://localhost:8080/"
        },
        "id": "tzK6RAJv3zr0",
        "outputId": "a5ed77ab-6cda-4d43-af42-d3d27732170d"
      },
      "source": [
        "import math\n",
        "print(\"nhap toa do x y cua a\")\n",
        "xA= int(input(\"xA = \"))\n",
        "yA= int(input(\"yA = \"))\n",
        "print(\"nhap toa do x y cua b\")\n",
        "xB= int(input(\"xB = \"))\n",
        "yB= int(input(\"yB = \"))\n",
        "S = math.sqrt((xA-xB)**2+(xB-yB)**2)\n",
        "print(\"khoang cach cua s la\", S)"
      ],
      "execution_count": null,
      "outputs": [
        {
          "output_type": "stream",
          "name": "stdout",
          "text": [
            "nhap toa do x y cua a\n",
            "xA = 2\n",
            "yA = 3\n",
            "nhap toa do x y cua b\n",
            "xB = 4\n",
            "yB = 2\n",
            "khoang cach cua s la 2.8284271247461903\n"
          ]
        }
      ]
    },
    {
      "cell_type": "code",
      "metadata": {
        "id": "ZmlFqsvD66L_"
      },
      "source": [
        ""
      ],
      "execution_count": null,
      "outputs": []
    }
  ]
}